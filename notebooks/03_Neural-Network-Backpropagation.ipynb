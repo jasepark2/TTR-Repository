{
  "cells": [
    {
      "cell_type": "markdown",
      "metadata": {
        "id": "view-in-github",
        "colab_type": "text"
      },
      "source": [
        "<a href=\"https://colab.research.google.com/github/jasepark2/TTR-Repository/blob/master/notebooks/03_Neural-Network-Backpropagation.ipynb\" target=\"_parent\"><img src=\"https://colab.research.google.com/assets/colab-badge.svg\" alt=\"Open In Colab\"/></a>"
      ]
    },
    {
      "cell_type": "markdown",
      "metadata": {
        "id": "L-a-aQi-2Xnk"
      },
      "source": [
        "# Propagating Gradients Backwards\n",
        "---"
      ]
    },
    {
      "cell_type": "markdown",
      "metadata": {
        "toc": true,
        "id": "8tvdZ3Gr2Xnl"
      },
      "source": [
        "<h1>Table of Contents<span class=\"tocSkip\"></span></h1>\n",
        "<div class=\"toc\"><ul class=\"toc-item\"><li><span><a href=\"#Propagating-Gradients-Backwards\" data-toc-modified-id=\"Propagating-Gradients-Backwards-1\"><span class=\"toc-item-num\">1&nbsp;&nbsp;</span>Propagating Gradients Backwards</a></span><ul class=\"toc-item\"><li><span><a href=\"#Import-Libraries\" data-toc-modified-id=\"Import-Libraries-1.1\"><span class=\"toc-item-num\">1.1&nbsp;&nbsp;</span>Import Libraries</a></span></li><li><span><a href=\"#Unit-Tests\" data-toc-modified-id=\"Unit-Tests-1.2\"><span class=\"toc-item-num\">1.2&nbsp;&nbsp;</span>Unit Tests</a></span></li><li><span><a href=\"#Load-Data\" data-toc-modified-id=\"Load-Data-1.3\"><span class=\"toc-item-num\">1.3&nbsp;&nbsp;</span>Load Data</a></span></li><li><span><a href=\"#Normalize-Data\" data-toc-modified-id=\"Normalize-Data-1.4\"><span class=\"toc-item-num\">1.4&nbsp;&nbsp;</span>Normalize Data</a></span></li></ul></li><li><span><a href=\"#Backpropagation-from-scratch\" data-toc-modified-id=\"Backpropagation-from-scratch-2\"><span class=\"toc-item-num\">2&nbsp;&nbsp;</span>Backpropagation from scratch</a></span><ul class=\"toc-item\"><li><span><a href=\"#Linear-Layer\" data-toc-modified-id=\"Linear-Layer-2.1\"><span class=\"toc-item-num\">2.1&nbsp;&nbsp;</span>Linear Layer</a></span></li><li><span><a href=\"#Activation-Layer\" data-toc-modified-id=\"Activation-Layer-2.2\"><span class=\"toc-item-num\">2.2&nbsp;&nbsp;</span>Activation Layer</a></span></li><li><span><a href=\"#Loss-Layer\" data-toc-modified-id=\"Loss-Layer-2.3\"><span class=\"toc-item-num\">2.3&nbsp;&nbsp;</span>Loss Layer</a></span></li><li><span><a href=\"#Feedforward-Network\" data-toc-modified-id=\"Feedforward-Network-2.4\"><span class=\"toc-item-num\">2.4&nbsp;&nbsp;</span>Feedforward Network</a></span></li></ul></li><li><span><a href=\"#Refactor-&amp;-Redesign\" data-toc-modified-id=\"Refactor-&amp;-Redesign-3\"><span class=\"toc-item-num\">3&nbsp;&nbsp;</span>Refactor &amp; Redesign</a></span><ul class=\"toc-item\"><li><span><a href=\"#Abstract-Layer-Class\" data-toc-modified-id=\"Abstract-Layer-Class-3.1\"><span class=\"toc-item-num\">3.1&nbsp;&nbsp;</span>Abstract Layer Class</a></span></li><li><span><a href=\"#Linear-Layer\" data-toc-modified-id=\"Linear-Layer-3.2\"><span class=\"toc-item-num\">3.2&nbsp;&nbsp;</span>Linear Layer</a></span></li><li><span><a href=\"#Activation-Layer\" data-toc-modified-id=\"Activation-Layer-3.3\"><span class=\"toc-item-num\">3.3&nbsp;&nbsp;</span>Activation Layer</a></span></li><li><span><a href=\"#Loss-Layer\" data-toc-modified-id=\"Loss-Layer-3.4\"><span class=\"toc-item-num\">3.4&nbsp;&nbsp;</span>Loss Layer</a></span></li><li><span><a href=\"#Feedforward-Network\" data-toc-modified-id=\"Feedforward-Network-3.5\"><span class=\"toc-item-num\">3.5&nbsp;&nbsp;</span>Feedforward Network</a></span></li></ul></li><li><span><a href=\"#Comparison-with-PyTorch's-Autograd\" data-toc-modified-id=\"Comparison-with-PyTorch's-Autograd-4\"><span class=\"toc-item-num\">4&nbsp;&nbsp;</span>Comparison with PyTorch's Autograd</a></span><ul class=\"toc-item\"><li><span><a href=\"#PyTorch's-Performance\" data-toc-modified-id=\"PyTorch's-Performance-4.1\"><span class=\"toc-item-num\">4.1&nbsp;&nbsp;</span>PyTorch's Performance</a></span></li><li><span><a href=\"#Our-Model's-Performance\" data-toc-modified-id=\"Our-Model's-Performance-4.2\"><span class=\"toc-item-num\">4.2&nbsp;&nbsp;</span>Our Model's Performance</a></span></li></ul></li></ul></div>"
      ]
    },
    {
      "cell_type": "markdown",
      "metadata": {
        "id": "I3rbVt_n2Xnm"
      },
      "source": [
        "## Import Libraries"
      ]
    },
    {
      "cell_type": "code",
      "execution_count": 1,
      "metadata": {
        "id": "2dOqc8wQ2Xnm"
      },
      "outputs": [],
      "source": [
        "import math\n",
        "import operator\n",
        "\n",
        "import torch\n",
        "from torchvision.datasets import MNIST\n",
        "\n",
        "import matplotlib.pyplot as plt\n",
        "%matplotlib inline"
      ]
    },
    {
      "cell_type": "markdown",
      "metadata": {
        "id": "NnNYEbvn2Xnn"
      },
      "source": [
        "## Unit Tests"
      ]
    },
    {
      "cell_type": "code",
      "execution_count": 2,
      "metadata": {
        "id": "-AANz-w72Xnn"
      },
      "outputs": [],
      "source": [
        "def test(a, b, compare, compare_name=None):\n",
        "    if compare_name is None:\n",
        "        compare_name = compare.__name__\n",
        "    assert compare(a, b),\\\n",
        "    f\"{compare_name} check failed:\\n{a}\\n{b}\"\n",
        "\n",
        "def test_zero(x, tol=1e-3):\n",
        "    test(x, tol, operator.le, f\"Zero (less than tolerance: {tol})\")\n",
        "\n",
        "def test_equality(a, b):\n",
        "    test(a, b, operator.eq, \"Equality\")\n",
        "\n",
        "def test_approximately(a, b):\n",
        "    allclose = partial(torch.allclose, atol=1e-5, rtol=1e-03)\n",
        "    if not isinstance(a, torch.Tensor) or not isinstance(b, torch.Tensor):\n",
        "        a = torch.tensor(a)\n",
        "        b = torch.tensor(b)\n",
        "    test(a, b, allclose, \"Approximate Equality\")"
      ]
    },
    {
      "cell_type": "markdown",
      "metadata": {
        "id": "g-9orqs_2Xnn"
      },
      "source": [
        "## Load Data"
      ]
    },
    {
      "cell_type": "code",
      "execution_count": 3,
      "metadata": {
        "id": "ReeGXJAS2Xnn",
        "outputId": "abdb655c-287a-4fa9-9636-390f849a8221",
        "colab": {
          "base_uri": "https://localhost:8080/",
          "height": 276
        }
      },
      "outputs": [
        {
          "output_type": "error",
          "ename": "RuntimeError",
          "evalue": "Dataset not found. You can use download=True to download it",
          "traceback": [
            "\u001b[0;31m---------------------------------------------------------------------------\u001b[0m",
            "\u001b[0;31mRuntimeError\u001b[0m                              Traceback (most recent call last)",
            "\u001b[0;32m/tmp/ipython-input-832554935.py\u001b[0m in \u001b[0;36m<cell line: 0>\u001b[0;34m()\u001b[0m\n\u001b[0;32m----> 1\u001b[0;31m \u001b[0mdataset\u001b[0m \u001b[0;34m=\u001b[0m \u001b[0mMNIST\u001b[0m\u001b[0;34m(\u001b[0m\u001b[0mroot\u001b[0m\u001b[0;34m=\u001b[0m\u001b[0;34m\"../data/\"\u001b[0m\u001b[0;34m)\u001b[0m\u001b[0;34m\u001b[0m\u001b[0;34m\u001b[0m\u001b[0m\n\u001b[0m",
            "\u001b[0;32m/usr/local/lib/python3.11/dist-packages/torchvision/datasets/mnist.py\u001b[0m in \u001b[0;36m__init__\u001b[0;34m(self, root, train, transform, target_transform, download)\u001b[0m\n\u001b[1;32m    101\u001b[0m \u001b[0;34m\u001b[0m\u001b[0m\n\u001b[1;32m    102\u001b[0m         \u001b[0;32mif\u001b[0m \u001b[0;32mnot\u001b[0m \u001b[0mself\u001b[0m\u001b[0;34m.\u001b[0m\u001b[0m_check_exists\u001b[0m\u001b[0;34m(\u001b[0m\u001b[0;34m)\u001b[0m\u001b[0;34m:\u001b[0m\u001b[0;34m\u001b[0m\u001b[0;34m\u001b[0m\u001b[0m\n\u001b[0;32m--> 103\u001b[0;31m             \u001b[0;32mraise\u001b[0m \u001b[0mRuntimeError\u001b[0m\u001b[0;34m(\u001b[0m\u001b[0;34m\"Dataset not found. You can use download=True to download it\"\u001b[0m\u001b[0;34m)\u001b[0m\u001b[0;34m\u001b[0m\u001b[0;34m\u001b[0m\u001b[0m\n\u001b[0m\u001b[1;32m    104\u001b[0m \u001b[0;34m\u001b[0m\u001b[0m\n\u001b[1;32m    105\u001b[0m         \u001b[0mself\u001b[0m\u001b[0;34m.\u001b[0m\u001b[0mdata\u001b[0m\u001b[0;34m,\u001b[0m \u001b[0mself\u001b[0m\u001b[0;34m.\u001b[0m\u001b[0mtargets\u001b[0m \u001b[0;34m=\u001b[0m \u001b[0mself\u001b[0m\u001b[0;34m.\u001b[0m\u001b[0m_load_data\u001b[0m\u001b[0;34m(\u001b[0m\u001b[0;34m)\u001b[0m\u001b[0;34m\u001b[0m\u001b[0;34m\u001b[0m\u001b[0m\n",
            "\u001b[0;31mRuntimeError\u001b[0m: Dataset not found. You can use download=True to download it"
          ]
        }
      ],
      "source": [
        "dataset = MNIST(root=\"../data/\")"
      ]
    },
    {
      "cell_type": "code",
      "execution_count": null,
      "metadata": {
        "id": "8kpwKdFH2Xnn"
      },
      "outputs": [],
      "source": [
        "x, y = dataset.data.float(), dataset.targets\n",
        "x_train, x_test = x[:50000], x[50000:]\n",
        "y_train, y_test = y[:50000], y[50000:]\n",
        "\n",
        "x_train.shape, x_test.shape"
      ]
    },
    {
      "cell_type": "code",
      "execution_count": null,
      "metadata": {
        "id": "PGw3PppP2Xno"
      },
      "outputs": [],
      "source": [
        "plt.imshow(x_train[0])"
      ]
    },
    {
      "cell_type": "markdown",
      "metadata": {
        "id": "sPAHG7QO2Xno"
      },
      "source": [
        "**Flatten**"
      ]
    },
    {
      "cell_type": "code",
      "execution_count": null,
      "metadata": {
        "id": "luT13rGo2Xno"
      },
      "outputs": [],
      "source": [
        "x_train = x_train.reshape(x_train.shape[0],x_train.shape[1]*x_train.shape[2])\n",
        "x_test = x_test.reshape(x_test.shape[0],x_test.shape[1]*x_test.shape[2])"
      ]
    },
    {
      "cell_type": "code",
      "execution_count": null,
      "metadata": {
        "id": "Dth_6UhJ2Xno"
      },
      "outputs": [],
      "source": [
        "n, m = x_train.shape\n",
        "c = (y_train.max() - y_train.min()).item()\n",
        "n, m, c"
      ]
    },
    {
      "cell_type": "markdown",
      "metadata": {
        "id": "Z7Qhc87Y2Xno"
      },
      "source": [
        "## Normalize Data"
      ]
    },
    {
      "cell_type": "code",
      "execution_count": null,
      "metadata": {
        "id": "keZKvSJK2Xno"
      },
      "outputs": [],
      "source": [
        "def normalize(x, mean, std): return (x-mean)/std"
      ]
    },
    {
      "cell_type": "code",
      "execution_count": null,
      "metadata": {
        "id": "Inu7K-Rx2Xno"
      },
      "outputs": [],
      "source": [
        "train_mean = x_train.mean()\n",
        "train_std = x_train.std()"
      ]
    },
    {
      "cell_type": "code",
      "execution_count": null,
      "metadata": {
        "id": "0iJ9rg5s2Xno"
      },
      "outputs": [],
      "source": [
        "x_train = normalize(x_train, train_mean, train_std)\n",
        "x_test = normalize(x_test, train_mean, train_std)"
      ]
    },
    {
      "cell_type": "code",
      "execution_count": null,
      "metadata": {
        "id": "o2zTYnJk2Xno"
      },
      "outputs": [],
      "source": [
        "plt.imshow(x_test[0].view(28,28))"
      ]
    },
    {
      "cell_type": "markdown",
      "metadata": {
        "id": "-uH4LK2R2Xno"
      },
      "source": [
        "# Backpropagation from scratch"
      ]
    },
    {
      "cell_type": "markdown",
      "metadata": {
        "id": "dd2rY54v2Xnp"
      },
      "source": [
        "## Linear Layer"
      ]
    },
    {
      "cell_type": "code",
      "execution_count": null,
      "metadata": {
        "id": "1-PavO9g2Xnp"
      },
      "outputs": [],
      "source": [
        "class Linear():\n",
        "    '''Affine layer with weight and bias initialized using Kaiming initialization'''\n",
        "    def __init__(self, in_size, out_size):\n",
        "        self.weight = torch.randn(in_size, out_size) * math.sqrt(2/in_size)\n",
        "        self.bias = torch.zeros(out_size)\n",
        "\n",
        "    def __repr__(self):\n",
        "        return f\"(Linear: in={self.weight.shape[0]} out={self.weight.shape[1]})\"\n",
        "\n",
        "    def forward(self, x):\n",
        "        self.x = x\n",
        "        self.y = self.x@self.weight + self.bias\n",
        "        return self.y\n",
        "\n",
        "    def backward(self):\n",
        "        self.weight.g = self.x.t() @ self.y.g\n",
        "        self.bias.g = self.y.g\n",
        "        self.x.g = self.y.g @ self.weight.t()"
      ]
    },
    {
      "cell_type": "markdown",
      "metadata": {
        "id": "I4CsTRIH2Xnp"
      },
      "source": [
        "## Activation Layer"
      ]
    },
    {
      "cell_type": "code",
      "execution_count": null,
      "metadata": {
        "id": "vEq49EW22Xnp"
      },
      "outputs": [],
      "source": [
        "class ReLU():\n",
        "    '''Rectified Linear Unit Layer'''\n",
        "\n",
        "    def __init__(self, shift=0.):\n",
        "        self.shift = shift\n",
        "\n",
        "    def __repr__(self):\n",
        "        return f\"(ReLU: shift={self.shift})\"\n",
        "\n",
        "    def forward(self, x):\n",
        "        self.x = x\n",
        "        self.y = self.x.clamp_min(0.) - self.shift\n",
        "        return self.y\n",
        "\n",
        "    def backward(self):\n",
        "        self.x.g = self.y.g * (self.x>0).float()"
      ]
    },
    {
      "cell_type": "markdown",
      "metadata": {
        "id": "fTmBqPEt2Xnp"
      },
      "source": [
        "## Loss Layer"
      ]
    },
    {
      "cell_type": "code",
      "execution_count": null,
      "metadata": {
        "id": "_brw-fI12Xnp"
      },
      "outputs": [],
      "source": [
        "class MSE():\n",
        "    '''Mean Squared Error Layer'''\n",
        "\n",
        "    def __repr__(self):\n",
        "        return \"Loss: Mean Squared Error\"\n",
        "\n",
        "    def forward(self, y_pred, y_true):\n",
        "        self.x1 = y_pred\n",
        "        self.x2 = y_true\n",
        "        self.y = (self.x1-self.x2).pow(2).mean()\n",
        "        return self.y\n",
        "\n",
        "    def backward(self):\n",
        "        self.x1.g = 2 * (self.x1-self.x2) / self.x1.shape[0]"
      ]
    },
    {
      "cell_type": "markdown",
      "metadata": {
        "id": "iBmoJ00-2Xnp"
      },
      "source": [
        "## Feedforward Network"
      ]
    },
    {
      "cell_type": "code",
      "execution_count": null,
      "metadata": {
        "id": "-dHQP29N2Xnp"
      },
      "outputs": [],
      "source": [
        "class FeedForwardNN():\n",
        "    '''Feedforward neural network'''\n",
        "\n",
        "    def __init__(self, x_dim, y_dim, n_layers):\n",
        "        # get an exponentially spaced array of layer dimensions\n",
        "        def _exp(pos): return math.ceil(x_dim * (y_dim/x_dim)**pos)\n",
        "        layer_dims  = [_exp(pos/n_layers) for pos in range(0, n_layers+1)]\n",
        "        # construct the list of layers\n",
        "        self.layers = []\n",
        "        for i in range(n_layers):\n",
        "            in_dim, out_dim = layer_dims[i], layer_dims[i+1]\n",
        "            self.layers.append(Linear(in_dim, out_dim))\n",
        "            self.layers.append(ReLU())\n",
        "        self.loss = MSE()\n",
        "\n",
        "    def __repr__(self):\n",
        "        model_str = \"\\n\".join(l.__repr__() for l in self.layers)\n",
        "        model_str += \"\\n\" + self.loss.__repr__()\n",
        "        return model_str\n",
        "\n",
        "    def forward(self, x):\n",
        "        for l in self.layers:\n",
        "            x = l.forward(x)\n",
        "        return x\n",
        "\n",
        "    def backward(self):\n",
        "        self.loss.backward()\n",
        "        for layer in reversed(self.layers):\n",
        "            layer.backward()"
      ]
    },
    {
      "cell_type": "code",
      "execution_count": null,
      "metadata": {
        "id": "Amle9Hx32Xnp"
      },
      "outputs": [],
      "source": [
        "model = FeedForwardNN(x_dim=784, y_dim=1, n_layers=5)\n",
        "model"
      ]
    },
    {
      "cell_type": "code",
      "execution_count": null,
      "metadata": {
        "id": "J4mgykFZ2Xnp"
      },
      "outputs": [],
      "source": [
        "y_pred = model.forward(x_train)\n",
        "loss = model.loss.forward(y_pred.float(), y_train.unsqueeze(-1).float())\n",
        "model.backward()"
      ]
    },
    {
      "cell_type": "markdown",
      "metadata": {
        "id": "pAQXeUUA2Xnp"
      },
      "source": [
        "# Refactor & Redesign"
      ]
    },
    {
      "cell_type": "markdown",
      "metadata": {
        "id": "IFf_3_Sa2Xnp"
      },
      "source": [
        "## Abstract Layer Class"
      ]
    },
    {
      "cell_type": "code",
      "execution_count": null,
      "metadata": {
        "id": "zvootA-n2Xnp"
      },
      "outputs": [],
      "source": [
        "class Layer():\n",
        "    '''Abstract Layer class like PyTorch's nn.Module'''\n",
        "\n",
        "    def __call__(self, *args):\n",
        "        self.args = args\n",
        "        self.y = self.forward(*self.args)\n",
        "        return self.y\n",
        "\n",
        "    def __repr__(self):\n",
        "        raise NotImplementedError(\"__repr__ method not implemented\")\n",
        "\n",
        "    def forward(self, *args):\n",
        "        raise NotImplementedError(\"forward method not implemented\")\n",
        "\n",
        "    def backward(self):\n",
        "        raise NotImplementedError(\"backward method not implemented\")"
      ]
    },
    {
      "cell_type": "markdown",
      "metadata": {
        "id": "loAo2FrA2Xnp"
      },
      "source": [
        "## Linear Layer"
      ]
    },
    {
      "cell_type": "code",
      "execution_count": null,
      "metadata": {
        "id": "QOMe_GD22Xnp"
      },
      "outputs": [],
      "source": [
        "class Linear(Layer):\n",
        "    '''Affine layer with weight and bias initialized using Kaiming initialization'''\n",
        "    def __init__(self, in_size, out_size):\n",
        "        self.weight = torch.randn(in_size, out_size) * math.sqrt(2/in_size)\n",
        "        self.bias = torch.zeros(out_size)\n",
        "\n",
        "    def __repr__(self):\n",
        "        return f\"(Linear: in={self.weight.shape[0]} out={self.weight.shape[1]})\"\n",
        "\n",
        "    def forward(self, x):\n",
        "        return x@self.weight + self.bias\n",
        "\n",
        "    def backward(self):\n",
        "        self.weight.g = self.args[0].t() @ self.y.g\n",
        "        self.bias.g = self.y.g\n",
        "        self.args[0].g = self.y.g @ self.weight.t()"
      ]
    },
    {
      "cell_type": "markdown",
      "metadata": {
        "id": "xmCwm-FO2Xnp"
      },
      "source": [
        "## Activation Layer"
      ]
    },
    {
      "cell_type": "code",
      "execution_count": null,
      "metadata": {
        "id": "GHGmhPRT2Xnp"
      },
      "outputs": [],
      "source": [
        "class ReLU(Layer):\n",
        "    '''Rectified Linear Unit Layer'''\n",
        "\n",
        "    def __init__(self, shift=0.):\n",
        "        self.shift = shift\n",
        "\n",
        "    def __repr__(self):\n",
        "        return f\"(ReLU: shift={self.shift})\"\n",
        "\n",
        "    def forward(self, x):\n",
        "        return x.clamp_min(0.) - self.shift\n",
        "\n",
        "    def backward(self):\n",
        "        self.args[0].g = self.y.g * (self.args[0]>0).float()"
      ]
    },
    {
      "cell_type": "markdown",
      "metadata": {
        "id": "YXx_JnKg2Xnp"
      },
      "source": [
        "## Loss Layer"
      ]
    },
    {
      "cell_type": "code",
      "execution_count": null,
      "metadata": {
        "id": "ABAVNFHr2Xnp"
      },
      "outputs": [],
      "source": [
        "class MSE(Layer):\n",
        "    '''Mean Squared Error Layer'''\n",
        "\n",
        "    def __repr__(self):\n",
        "        return \"Loss: Mean Squared Error\"\n",
        "\n",
        "    def forward(self, y_pred, y_true):\n",
        "        return (y_pred-y_true).pow(2).mean()\n",
        "\n",
        "    def backward(self):\n",
        "        n = self.args[0].shape[0]\n",
        "        self.args[0].g = 2 * (self.args[0] - self.args[1]) / n"
      ]
    },
    {
      "cell_type": "markdown",
      "metadata": {
        "id": "_n0Ff3SE2Xnp"
      },
      "source": [
        "## Feedforward Network"
      ]
    },
    {
      "cell_type": "code",
      "execution_count": null,
      "metadata": {
        "id": "RqBN1dtg2Xns"
      },
      "outputs": [],
      "source": [
        "class FeedForwardNN(Layer):\n",
        "    '''Feedforward neural network'''\n",
        "\n",
        "    def __init__(self, x_dim, y_dim, n_layers):\n",
        "        # get an exponentially spaced array of layer dimensions\n",
        "        def _exp(pos): return math.ceil(x_dim * (y_dim/x_dim)**pos)\n",
        "        layer_dims  = [_exp(pos/n_layers) for pos in range(0, n_layers+1)]\n",
        "        # construct the list of layers\n",
        "        self.layers = []\n",
        "        for i in range(n_layers):\n",
        "            in_dim, out_dim = layer_dims[i], layer_dims[i+1]\n",
        "            self.layers.append(Linear(in_dim, out_dim))\n",
        "            self.layers.append(ReLU())\n",
        "        self.loss = MSE()\n",
        "\n",
        "    def __repr__(self):\n",
        "        model_str = \"\\n\".join(l.__repr__() for l in self.layers)\n",
        "        model_str += \"\\n\" + self.loss.__repr__()\n",
        "        return model_str\n",
        "\n",
        "    def forward(self, x):\n",
        "        for l in self.layers:\n",
        "            x = l(x)\n",
        "        return x\n",
        "\n",
        "    def backward(self):\n",
        "        self.loss.backward()\n",
        "        for layer in reversed(self.layers):\n",
        "            layer.backward()"
      ]
    },
    {
      "cell_type": "code",
      "execution_count": null,
      "metadata": {
        "id": "Vep6PY6q2Xns"
      },
      "outputs": [],
      "source": [
        "model = FeedForwardNN(x_dim=784, y_dim=1, n_layers=5)\n",
        "model"
      ]
    },
    {
      "cell_type": "code",
      "execution_count": null,
      "metadata": {
        "id": "xBEaDEAY2Xns"
      },
      "outputs": [],
      "source": [
        "y_pred = model(x_train)\n",
        "loss = model.loss(y_pred.float(), y_train.unsqueeze(-1).float())\n",
        "model.backward()"
      ]
    },
    {
      "cell_type": "markdown",
      "metadata": {
        "id": "8H143F4D2Xns"
      },
      "source": [
        "# Comparison with PyTorch's Autograd"
      ]
    },
    {
      "cell_type": "code",
      "execution_count": null,
      "metadata": {
        "id": "MtZvLHDi2Xns"
      },
      "outputs": [],
      "source": [
        "import timeit\n",
        "from functools import partial\n",
        "from torch import nn"
      ]
    },
    {
      "cell_type": "code",
      "execution_count": null,
      "metadata": {
        "id": "jILycqyO2Xns"
      },
      "outputs": [],
      "source": [
        "torch.manual_seed(42)"
      ]
    },
    {
      "cell_type": "markdown",
      "metadata": {
        "id": "MzNNrGSF2Xns"
      },
      "source": [
        "## PyTorch's Performance"
      ]
    },
    {
      "cell_type": "code",
      "execution_count": null,
      "metadata": {
        "id": "qdi1u5ag2Xns"
      },
      "outputs": [],
      "source": [
        "class TorchModel(nn.Module):\n",
        "\n",
        "    def __init__(self, x_dim, h_dim, y_dim):\n",
        "        super().__init__()\n",
        "        self.layers = [nn.Linear(x_dim, h_dim),\n",
        "                       nn.ReLU(),\n",
        "                       nn.Linear(h_dim,y_dim)]\n",
        "        self.loss = nn.MSELoss()\n",
        "\n",
        "    def forward(self, x):\n",
        "        for l in self.layers:\n",
        "            x = l(x)\n",
        "        return x"
      ]
    },
    {
      "cell_type": "code",
      "execution_count": null,
      "metadata": {
        "id": "GI5EfTXj2Xns"
      },
      "outputs": [],
      "source": [
        "torch_model = TorchModel(784, 400, 1)"
      ]
    },
    {
      "cell_type": "code",
      "execution_count": null,
      "metadata": {
        "id": "VkyIQAfb2Xns"
      },
      "outputs": [],
      "source": [
        "torch_forward = timeit.timeit(partial(torch_model,x_train), number=10)\n",
        "y_pred = torch_model(x_train)\n",
        "loss = torch_model.loss(y_pred, y_train.unsqueeze(-1).float())\n",
        "torch_backward = timeit.timeit(loss.backward, number=1)"
      ]
    },
    {
      "cell_type": "code",
      "execution_count": null,
      "metadata": {
        "id": "1gHoYBkh2Xns"
      },
      "outputs": [],
      "source": [
        "torch_forward, torch_backward"
      ]
    },
    {
      "cell_type": "markdown",
      "metadata": {
        "id": "Vh0Lt1bo2Xns"
      },
      "source": [
        "## Our Model's Performance"
      ]
    },
    {
      "cell_type": "code",
      "execution_count": null,
      "metadata": {
        "id": "GWRfF_ny2Xns"
      },
      "outputs": [],
      "source": [
        "class OurModel(Layer):\n",
        "\n",
        "    def __init__(self, x_dim, h_dim, y_dim):\n",
        "        self.layers = [Linear(x_dim, h_dim),\n",
        "                       ReLU(),\n",
        "                       Linear(h_dim, y_dim)]\n",
        "        self.loss = MSE()\n",
        "\n",
        "    def forward(self, x):\n",
        "        for l in self.layers:\n",
        "            x = l(x)\n",
        "        return x\n",
        "\n",
        "    def backward(self):\n",
        "        self.loss.backward()\n",
        "        for layer in reversed(self.layers):\n",
        "            layer.backward()"
      ]
    },
    {
      "cell_type": "code",
      "execution_count": null,
      "metadata": {
        "id": "LxsKXfyL2Xnt"
      },
      "outputs": [],
      "source": [
        "model = OurModel(784, 400, 1)"
      ]
    },
    {
      "cell_type": "code",
      "execution_count": null,
      "metadata": {
        "id": "qyRE9gDb2Xnt"
      },
      "outputs": [],
      "source": [
        "forward = timeit.timeit(partial(model,x_train), number=10)\n",
        "y_pred = model(x_train)\n",
        "loss = model.loss(y_pred, y_train.unsqueeze(-1).float())\n",
        "backward = timeit.timeit(model.backward, number=1)"
      ]
    },
    {
      "cell_type": "code",
      "execution_count": null,
      "metadata": {
        "id": "SPY9Ah212Xnt"
      },
      "outputs": [],
      "source": [
        "forward, backward"
      ]
    },
    {
      "cell_type": "markdown",
      "metadata": {
        "id": "O69CR9dm2Xnt"
      },
      "source": [
        "**TODO**:\n",
        "* [ ] Write a reproducible test for correctness of gradient calculation    "
      ]
    },
    {
      "cell_type": "markdown",
      "metadata": {
        "id": "585u35nJ2Xnt"
      },
      "source": [
        "___"
      ]
    }
  ],
  "metadata": {
    "kernelspec": {
      "display_name": "Python [conda env:prod] *",
      "language": "python",
      "name": "conda-env-prod-py"
    },
    "language_info": {
      "codemirror_mode": {
        "name": "ipython",
        "version": 3
      },
      "file_extension": ".py",
      "mimetype": "text/x-python",
      "name": "python",
      "nbconvert_exporter": "python",
      "pygments_lexer": "ipython3",
      "version": "3.7.5"
    },
    "toc": {
      "base_numbering": 1,
      "nav_menu": {},
      "number_sections": true,
      "sideBar": true,
      "skip_h1_title": false,
      "title_cell": "Table of Contents",
      "title_sidebar": "Contents",
      "toc_cell": true,
      "toc_position": {},
      "toc_section_display": true,
      "toc_window_display": true
    },
    "colab": {
      "provenance": [],
      "include_colab_link": true
    }
  },
  "nbformat": 4,
  "nbformat_minor": 0
}